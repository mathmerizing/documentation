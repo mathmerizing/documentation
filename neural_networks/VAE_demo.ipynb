{
 "cells": [
  {
   "cell_type": "markdown",
   "metadata": {
    "slideshow": {
     "slide_type": "slide"
    }
   },
   "source": [
    "# VAE: Creating new handwritten numbers based on MNIST"
   ]
  },
  {
   "cell_type": "markdown",
   "metadata": {
    "slideshow": {
     "slide_type": "slide"
    }
   },
   "source": [
    "## Imports"
   ]
  },
  {
   "cell_type": "code",
   "execution_count": 1,
   "metadata": {
    "slideshow": {
     "slide_type": "slide"
    }
   },
   "outputs": [],
   "source": [
    "from dataset import Dataset\n",
    "from nn import MLP\n",
    "from vae import VAE, Sampler\n",
    "import matplotlib.pyplot as plt\n",
    "import numpy as np\n",
    "np.random.seed(3)"
   ]
  },
  {
   "cell_type": "markdown",
   "metadata": {},
   "source": [
    "## Theory"
   ]
  },
  {
   "cell_type": "markdown",
   "metadata": {},
   "source": [
    "The main motivation behind variational autoencoders is to construct a generator that produces new meaningful data from scratch. So how does it work? Simply put, it takes the structure of an autoencoder, i.e. it takes an input x, computes a lower dimensional representation of x which can then be reconstructed to an outuput that is very similar to x and additionally the lower dimensional representation of the whole dataset is well organized such that the different classes of the data are concentrated in distinct heap points. This ensures that when trying to generate new data one can just sample in the region of those heap points in the lower dimensional space and use the decoder to transform the samples to the shape of our data. Similar samples in the lower dimensional space should result in the same class of data which means that our new synthetic data is meaningful and not just random noise. \n",
    "Thus a variational autoencoder satisfies two main conditions: the autoencoder property and an organized lower dimensional space. Those aspects can be directly observed in the Loss function:"
   ]
  },
  {
   "cell_type": "markdown",
   "metadata": {},
   "source": [
    "<center>$C\\|x - \\hat x\\| + D_{KL}\\Big(\\mathcal{N}(g(x),h(x)),\\mathcal{N}(0,I)\\Big)$ </center>"
   ]
  },
  {
   "cell_type": "markdown",
   "metadata": {},
   "source": [
    "Here the first term calculates the error for input and output pairs and thus ensures the autoencoder property. The second term is composed of the Kullback-Leibler divergence of two normal distributions which means some sort of distance or error is calculated for those two. Hence it is ensured that the lower dimensional space follows a multivariate standard normal distirbution and is thus well organized."
   ]
  },
  {
   "cell_type": "markdown",
   "metadata": {
    "slideshow": {
     "slide_type": "slide"
    }
   },
   "source": [
    "## Demo"
   ]
  },
  {
   "cell_type": "markdown",
   "metadata": {},
   "source": [
    "Firstly we load our pre-trained variational autoencoder model:"
   ]
  },
  {
   "cell_type": "code",
   "execution_count": 2,
   "metadata": {
    "scrolled": true,
    "slideshow": {
     "slide_type": "slide"
    }
   },
   "outputs": [
    {
     "name": "stdout",
     "output_type": "stream",
     "text": [
      "-------------------- VARIATIONAL AUTOENCODER (VAE) --------------------\n",
      "\n",
      "TOTAL PARAMETERS = 427344 \n",
      "\n",
      "###############\n",
      "#   ENCODER   #\n",
      "###############\n",
      "\n",
      " *** 1. Layer: *** \n",
      "------------------------\n",
      "DENSE 784 -> 256 [ReLU]\n",
      "------------------------\n",
      "Total parameters: 200960 \n",
      "---> WEIGHTS: (256, 784)\n",
      "---> BIASES: (256,)\n",
      "------------------------\n",
      "\n",
      "###############\n",
      "#   SAMPLER   #\n",
      "###############\n",
      "\n",
      " *** MEAN Layer: *** \n",
      "---------------------------\n",
      "DENSE 256 -> 32 [Identity]\n",
      "---------------------------\n",
      "Total parameters: 8224 \n",
      "---> WEIGHTS: (32, 256)\n",
      "---> BIASES: (32,)\n",
      "---------------------------\n",
      "\n",
      " *** LOG_VAR Layer: *** \n",
      "---------------------------\n",
      "DENSE 256 -> 32 [Identity]\n",
      "---------------------------\n",
      "Total parameters: 8224 \n",
      "---> WEIGHTS: (32, 256)\n",
      "---> BIASES: (32,)\n",
      "---------------------------\n",
      "\n",
      "###############\n",
      "#   DECODER   #\n",
      "###############\n",
      "\n",
      " *** 1. Layer: *** \n",
      "-----------------------\n",
      "DENSE 32 -> 256 [ReLU]\n",
      "-----------------------\n",
      "Total parameters: 8448 \n",
      "---> WEIGHTS: (256, 32)\n",
      "---> BIASES: (256,)\n",
      "-----------------------\n",
      "\n",
      " *** 2. Layer: *** \n",
      "---------------------------\n",
      "DENSE 256 -> 784 [Sigmoid]\n",
      "---------------------------\n",
      "Total parameters: 201488 \n",
      "---> WEIGHTS: (784, 256)\n",
      "---> BIASES: (784,)\n",
      "---------------------------\n",
      "\n",
      "----------------------------------------------------------------------\n",
      "\n"
     ]
    }
   ],
   "source": [
    "#load model\n",
    "vae = VAE()\n",
    "vae.load(\"mnist_variational_autoencoder\")\n",
    "print(vae)"
   ]
  },
  {
   "cell_type": "markdown",
   "metadata": {},
   "source": [
    "Next we load our MNIST dataset"
   ]
  },
  {
   "cell_type": "code",
   "execution_count": 3,
   "metadata": {
    "slideshow": {
     "slide_type": "slide"
    }
   },
   "outputs": [],
   "source": [
    "#load dataset\n",
    "dataset = Dataset(name = \"mnist\", train_size = 60000, test_size = 10000, batch_size = 1)\n",
    "original = next(dataset.batches())[1][0] #load a random handwritten image\n",
    "output = vae.feedforward(original)"
   ]
  },
  {
   "cell_type": "markdown",
   "metadata": {},
   "source": [
    "Here we can see, what a forward pass through our model does. It looks quite similar to what we'd expect form a normal Autoencoder."
   ]
  },
  {
   "cell_type": "code",
   "execution_count": 4,
   "metadata": {
    "slideshow": {
     "slide_type": "slide"
    }
   },
   "outputs": [
    {
     "data": {
      "image/png": "[encoded data removed]",
      "text/plain": [
       "<Figure size 432x288 with 2 Axes>"
      ]
     },
     "metadata": {
      "needs_background": "light"
     },
     "output_type": "display_data"
    }
   ],
   "source": [
    "#example of feedforward pass\n",
    "f, ax = plt.subplots(1,2)\n",
    "ax[0].imshow(original.reshape(28,28))\n",
    "ax[0].set_title(\"Original\")\n",
    "ax[1].imshow(output.reshape(28,28))\n",
    "ax[1].set_title(\"VAE\")\n",
    "plt.show()"
   ]
  },
  {
   "cell_type": "markdown",
   "metadata": {},
   "source": [
    "Here we can observe, what VAEs are all about. We extrapolate from \"new\" objects in our latent space an image, which is simmilar to it's two parent images. Thereby we can create new digit-like images."
   ]
  },
  {
   "cell_type": "code",
   "execution_count": 5,
   "metadata": {
    "slideshow": {
     "slide_type": "slide"
    }
   },
   "outputs": [
    {
     "data": {
      "image/png": "[encoded data removed]",
      "text/plain": [
       "<Figure size 1440x1440 with 11 Axes>"
      ]
     },
     "metadata": {
      "needs_background": "light"
     },
     "output_type": "display_data"
    }
   ],
   "source": [
    "#extrapolating from latent space:\n",
    "n = 11\n",
    "\n",
    "latent1 = vae.sampler.sample\n",
    "vae.feedforward(next(dataset.batches())[1][0])\n",
    "latent2 = vae.sampler.sample\n",
    "\n",
    "\n",
    "f, ax = plt.subplots(1, n, figsize = (20,20))\n",
    "\n",
    "for i in range(n):\n",
    "    z = (latent1 * (n-1-i) + latent2 * i) / (n-1)\n",
    "    ax[i].imshow(vae.decoder.feedforward(z).reshape(28,28))\n",
    "    ax[i].set_title(f\"{i/(n-1) * 100}%\")\n",
    "    ax[i].axis(\"off\")\n",
    "\n",
    "plt.show()"
   ]
  },
  {
   "cell_type": "markdown",
   "metadata": {},
   "source": [
    "## References\n",
    "\n",
    "1. Diederik P Kingma and Max Welling. Auto-Encoding Variational Bayes. 2013. arXiv: 1312.6114 [stat.ML]\n",
    "\n",
    "2. https://towardsdatascience.com/understanding-variational-autoencoders-vaes-f70510919f73\n",
    "\n",
    "3. https://github.com/pometa0507/Variational-Autoencoder-Numpy"
   ]
  }
 ],
 "metadata": {
  "kernelspec": {
   "display_name": "Python 3",
   "language": "python",
   "name": "python3"
  },
  "language_info": {
   "codemirror_mode": {
    "name": "ipython",
    "version": 3
   },
   "file_extension": ".py",
   "mimetype": "text/x-python",
   "name": "python",
   "nbconvert_exporter": "python",
   "pygments_lexer": "ipython3",
   "version": "3.7.5"
  }
 },
 "nbformat": 4,
 "nbformat_minor": 4
}
